{
  "cells": [
    {
      "cell_type": "markdown",
      "metadata": {
        "id": "pwKu1Yon4pn6"
      },
      "source": [
        "# Formula_1_Rankings_Prediction\n",
        "\n",
        "In this project i will be working on formula 1 dataset. I downloaded this dataset from kaggle. I will be analyzing about the circuits, driver_standings, pit_stops and many more. I will be using various visualizations, and I will also add some colums to get the insights from the data.\n",
        "\n",
        "## Introduction\n",
        "\n",
        "In this analysis we will observe how various columns in out dataset are related. We will also see what is the rank of the formula car according to the grid of the car that is how grid is related to the rank of formula car."
      ]
    },
    {
      "cell_type": "markdown",
      "metadata": {
        "id": "4Hol3w8P4pn-"
      },
      "source": [
        "## Downloading the Dataset\n",
        "\n",
        "I have imported the Formula 1 dataset from kaggle."
      ]
    },
    {
      "cell_type": "code",
      "execution_count": null,
      "metadata": {
        "id": "ZK0A7XLQ4pn_"
      },
      "outputs": [],
      "source": [
        "!pip install jovian opendatasets --upgrade --quiet"
      ]
    },
    {
      "cell_type": "markdown",
      "metadata": {
        "id": "haLJrWtm4poB"
      },
      "source": [
        "Let's begin by downloading the data, and listing the files within the dataset."
      ]
    },
    {
      "cell_type": "code",
      "execution_count": null,
      "metadata": {
        "id": "-Bcm2kH64poC"
      },
      "outputs": [],
      "source": [
        "dataset_url = 'https://www.kaggle.com/datasets/cbhavik/formula-1-ml-classifier' "
      ]
    },
    {
      "cell_type": "code",
      "execution_count": null,
      "metadata": {
        "colab": {
          "base_uri": "https://localhost:8080/"
        },
        "id": "G-d0e0ax4poD",
        "outputId": "e078185f-595b-487a-db6f-780947fc542b"
      },
      "outputs": [
        {
          "name": "stdout",
          "output_type": "stream",
          "text": [
            "Please provide your Kaggle credentials to download this dataset. Learn more: http://bit.ly/kaggle-creds\n",
            "Your Kaggle username: \n",
            "Your Kaggle username: pdheeraj2002\n",
            "Your Kaggle Key: ········\n",
            "Downloading formula-1-ml-classifier.zip to ./formula-1-ml-classifier\n"
          ]
        },
        {
          "name": "stderr",
          "output_type": "stream",
          "text": [
            "100%|██████████| 5.54M/5.54M [00:00<00:00, 42.3MB/s]"
          ]
        },
        {
          "name": "stdout",
          "output_type": "stream",
          "text": [
            "\n"
          ]
        },
        {
          "name": "stderr",
          "output_type": "stream",
          "text": [
            "\n"
          ]
        }
      ],
      "source": [
        "import opendatasets as od\n",
        "od.download(dataset_url)"
      ]
    },
    {
      "cell_type": "markdown",
      "metadata": {
        "id": "yZcpF0fO4poF"
      },
      "source": [
        "The dataset has been downloaded and extracted."
      ]
    },
    {
      "cell_type": "code",
      "execution_count": null,
      "metadata": {
        "id": "zKW1mY9H4poF"
      },
      "outputs": [],
      "source": [
        "# Change this\n",
        "data_dir = './formula-1-ml-classifier'"
      ]
    },
    {
      "cell_type": "code",
      "execution_count": null,
      "metadata": {
        "colab": {
          "base_uri": "https://localhost:8080/"
        },
        "id": "7iV9KKlr4poG",
        "outputId": "2862b13f-adfa-45d1-843d-0ef75089e679"
      },
      "outputs": [
        {
          "data": {
            "text/plain": [
              "['constructor_results.csv',\n",
              " 'driver_standings.csv',\n",
              " 'pit_stops.csv',\n",
              " 'qualifying.csv',\n",
              " 'status.csv',\n",
              " 'sprint_results.csv',\n",
              " 'circuits.csv',\n",
              " 'results.csv',\n",
              " 'constructor_standings.csv',\n",
              " 'seasons.csv',\n",
              " 'lap_times.csv',\n",
              " 'races.csv',\n",
              " 'drivers.csv',\n",
              " 'constructors.csv']"
            ]
          },
          "execution_count": 6,
          "metadata": {},
          "output_type": "execute_result"
        }
      ],
      "source": [
        "import os\n",
        "os.listdir(data_dir)"
      ]
    },
    {
      "cell_type": "markdown",
      "metadata": {
        "id": "xxkFJ78d4poH"
      },
      "source": [
        "To save and upload our work to Jovian before continuing."
      ]
    },
    {
      "cell_type": "code",
      "execution_count": null,
      "metadata": {
        "id": "wrHyvrlX4poH"
      },
      "outputs": [],
      "source": [
        "project_name = \"formula-1\""
      ]
    },
    {
      "cell_type": "code",
      "execution_count": null,
      "metadata": {
        "id": "g2T9C0wb4poH"
      },
      "outputs": [],
      "source": [
        "!pip install jovian --upgrade -q"
      ]
    },
    {
      "cell_type": "code",
      "execution_count": null,
      "metadata": {
        "id": "smADsa4B4poH"
      },
      "outputs": [],
      "source": [
        "import jovian"
      ]
    },
    {
      "cell_type": "code",
      "execution_count": null,
      "metadata": {
        "colab": {
          "base_uri": "https://localhost:8080/"
        },
        "id": "c0_jrol_4poI",
        "outputId": "3c61c15c-5438-43e0-f3cb-4fd8c180b628"
      },
      "outputs": [
        {
          "data": {
            "application/javascript": [
              "window.require && require([\"base/js/namespace\"],function(Jupyter){Jupyter.notebook.save_checkpoint()})"
            ],
            "text/plain": [
              "<IPython.core.display.Javascript object>"
            ]
          },
          "metadata": {},
          "output_type": "display_data"
        },
        {
          "name": "stdout",
          "output_type": "stream",
          "text": [
            "[jovian] Updating notebook \"pdheeraj1908/formula-1-final\" on https://jovian.com\u001b[0m\n",
            "[jovian] Committed successfully! https://jovian.com/pdheeraj1908/formula-1-final\u001b[0m\n"
          ]
        },
        {
          "data": {
            "text/plain": [
              "'https://jovian.com/pdheeraj1908/formula-1-final'"
            ]
          },
          "execution_count": 10,
          "metadata": {},
          "output_type": "execute_result"
        }
      ],
      "source": [
        "jovian.commit(project=project_name)"
      ]
    },
    {
      "cell_type": "code",
      "execution_count": null,
      "metadata": {
        "colab": {
          "base_uri": "https://localhost:8080/"
        },
        "id": "x4FilICK4poI",
        "outputId": "1169a2a8-b62e-46b6-8a94-81d57be1b5b2"
      },
      "outputs": [
        {
          "data": {
            "application/javascript": [
              "window.require && require([\"base/js/namespace\"],function(Jupyter){Jupyter.notebook.save_checkpoint()})"
            ],
            "text/plain": [
              "<IPython.core.display.Javascript object>"
            ]
          },
          "metadata": {},
          "output_type": "display_data"
        },
        {
          "name": "stdout",
          "output_type": "stream",
          "text": [
            "[jovian] Updating notebook \"pdheeraj1908/formula-1-final\" on https://jovian.com\u001b[0m\n",
            "[jovian] Committed successfully! https://jovian.com/pdheeraj1908/formula-1-final\u001b[0m\n"
          ]
        },
        {
          "data": {
            "text/plain": [
              "'https://jovian.com/pdheeraj1908/formula-1-final'"
            ]
          },
          "execution_count": 11,
          "metadata": {},
          "output_type": "execute_result"
        }
      ],
      "source": [
        "jovian.commit()"
      ]
    },
    {
      "cell_type": "markdown",
      "metadata": {
        "id": "mwItDMK04poI"
      },
      "source": [
        "## Data Preparation and Cleaning\n",
        "\n",
        "Now I will be converting the csv files to the data frames using pandas. I will go through the data and if I find any missing,  incorrect and invalid data, and do the needful to keep my dataset as accurate as possible. and I will also perform some additional steps like parsing dates, creating additional columns, merging multiple dataset etc.. "
      ]
    },
    {
      "cell_type": "code",
      "execution_count": null,
      "metadata": {
        "id": "3xjAnj5n4poJ"
      },
      "outputs": [],
      "source": [
        "!pip install pandas --upgrade --quiet\n",
        "import pandas as pd"
      ]
    },
    {
      "cell_type": "code",
      "execution_count": null,
      "metadata": {
        "colab": {
          "base_uri": "https://localhost:8080/"
        },
        "id": "7b1nMr1e4poJ",
        "outputId": "0d6886f1-81ef-4eb1-aa84-bc776c4f640d"
      },
      "outputs": [
        {
          "name": "stdout",
          "output_type": "stream",
          "text": [
            "Name: pandas\r\n",
            "Version: 1.5.2\r\n",
            "Summary: Powerful data structures for data analysis, time series, and statistics\r\n",
            "Home-page: https://pandas.pydata.org\r\n",
            "Author: The Pandas Development Team\r\n",
            "Author-email: pandas-dev@python.org\r\n",
            "License: BSD-3-Clause\r\n",
            "Location: /opt/conda/lib/python3.9/site-packages\r\n",
            "Requires: numpy, python-dateutil, pytz\r\n",
            "Required-by: altair, seaborn, statsmodels\r\n"
          ]
        }
      ],
      "source": [
        "!pip show pandas"
      ]
    },
    {
      "cell_type": "code",
      "execution_count": null,
      "metadata": {
        "colab": {
          "base_uri": "https://localhost:8080/",
          "height": 488
        },
        "id": "KyAfgdGu4poJ",
        "outputId": "f55caf0a-18c0-43cd-d4ca-c664361c7b08"
      },
      "outputs": [
        {
          "data": {
            "text/html": [
              "<div>\n",
              "<style scoped>\n",
              "    .dataframe tbody tr th:only-of-type {\n",
              "        vertical-align: middle;\n",
              "    }\n",
              "\n",
              "    .dataframe tbody tr th {\n",
              "        vertical-align: top;\n",
              "    }\n",
              "\n",
              "    .dataframe thead th {\n",
              "        text-align: right;\n",
              "    }\n",
              "</style>\n",
              "<table border=\"1\" class=\"dataframe\">\n",
              "  <thead>\n",
              "    <tr style=\"text-align: right;\">\n",
              "      <th></th>\n",
              "      <th>resultId</th>\n",
              "      <th>raceId</th>\n",
              "      <th>driverId</th>\n",
              "      <th>constructorId</th>\n",
              "      <th>number</th>\n",
              "      <th>grid</th>\n",
              "      <th>position</th>\n",
              "      <th>positionText</th>\n",
              "      <th>positionOrder</th>\n",
              "      <th>points</th>\n",
              "      <th>laps</th>\n",
              "      <th>time</th>\n",
              "      <th>milliseconds</th>\n",
              "      <th>fastestLap</th>\n",
              "      <th>rank</th>\n",
              "      <th>fastestLapTime</th>\n",
              "      <th>fastestLapSpeed</th>\n",
              "      <th>statusId</th>\n",
              "    </tr>\n",
              "  </thead>\n",
              "  <tbody>\n",
              "    <tr>\n",
              "      <th>0</th>\n",
              "      <td>1</td>\n",
              "      <td>18</td>\n",
              "      <td>1</td>\n",
              "      <td>1</td>\n",
              "      <td>22</td>\n",
              "      <td>1</td>\n",
              "      <td>1</td>\n",
              "      <td>1</td>\n",
              "      <td>1</td>\n",
              "      <td>10.0</td>\n",
              "      <td>58</td>\n",
              "      <td>1:34:50.616</td>\n",
              "      <td>5690616</td>\n",
              "      <td>39</td>\n",
              "      <td>2</td>\n",
              "      <td>1:27.452</td>\n",
              "      <td>218.300</td>\n",
              "      <td>1</td>\n",
              "    </tr>\n",
              "    <tr>\n",
              "      <th>1</th>\n",
              "      <td>2</td>\n",
              "      <td>18</td>\n",
              "      <td>2</td>\n",
              "      <td>2</td>\n",
              "      <td>3</td>\n",
              "      <td>5</td>\n",
              "      <td>2</td>\n",
              "      <td>2</td>\n",
              "      <td>2</td>\n",
              "      <td>8.0</td>\n",
              "      <td>58</td>\n",
              "      <td>+5.478</td>\n",
              "      <td>5696094</td>\n",
              "      <td>41</td>\n",
              "      <td>3</td>\n",
              "      <td>1:27.739</td>\n",
              "      <td>217.586</td>\n",
              "      <td>1</td>\n",
              "    </tr>\n",
              "    <tr>\n",
              "      <th>2</th>\n",
              "      <td>3</td>\n",
              "      <td>18</td>\n",
              "      <td>3</td>\n",
              "      <td>3</td>\n",
              "      <td>7</td>\n",
              "      <td>7</td>\n",
              "      <td>3</td>\n",
              "      <td>3</td>\n",
              "      <td>3</td>\n",
              "      <td>6.0</td>\n",
              "      <td>58</td>\n",
              "      <td>+8.163</td>\n",
              "      <td>5698779</td>\n",
              "      <td>41</td>\n",
              "      <td>5</td>\n",
              "      <td>1:28.090</td>\n",
              "      <td>216.719</td>\n",
              "      <td>1</td>\n",
              "    </tr>\n",
              "    <tr>\n",
              "      <th>3</th>\n",
              "      <td>4</td>\n",
              "      <td>18</td>\n",
              "      <td>4</td>\n",
              "      <td>4</td>\n",
              "      <td>5</td>\n",
              "      <td>11</td>\n",
              "      <td>4</td>\n",
              "      <td>4</td>\n",
              "      <td>4</td>\n",
              "      <td>5.0</td>\n",
              "      <td>58</td>\n",
              "      <td>+17.181</td>\n",
              "      <td>5707797</td>\n",
              "      <td>58</td>\n",
              "      <td>7</td>\n",
              "      <td>1:28.603</td>\n",
              "      <td>215.464</td>\n",
              "      <td>1</td>\n",
              "    </tr>\n",
              "    <tr>\n",
              "      <th>4</th>\n",
              "      <td>5</td>\n",
              "      <td>18</td>\n",
              "      <td>5</td>\n",
              "      <td>1</td>\n",
              "      <td>23</td>\n",
              "      <td>3</td>\n",
              "      <td>5</td>\n",
              "      <td>5</td>\n",
              "      <td>5</td>\n",
              "      <td>4.0</td>\n",
              "      <td>58</td>\n",
              "      <td>+18.014</td>\n",
              "      <td>5708630</td>\n",
              "      <td>43</td>\n",
              "      <td>1</td>\n",
              "      <td>1:27.418</td>\n",
              "      <td>218.385</td>\n",
              "      <td>1</td>\n",
              "    </tr>\n",
              "    <tr>\n",
              "      <th>...</th>\n",
              "      <td>...</td>\n",
              "      <td>...</td>\n",
              "      <td>...</td>\n",
              "      <td>...</td>\n",
              "      <td>...</td>\n",
              "      <td>...</td>\n",
              "      <td>...</td>\n",
              "      <td>...</td>\n",
              "      <td>...</td>\n",
              "      <td>...</td>\n",
              "      <td>...</td>\n",
              "      <td>...</td>\n",
              "      <td>...</td>\n",
              "      <td>...</td>\n",
              "      <td>...</td>\n",
              "      <td>...</td>\n",
              "      <td>...</td>\n",
              "      <td>...</td>\n",
              "    </tr>\n",
              "    <tr>\n",
              "      <th>25455</th>\n",
              "      <td>25461</td>\n",
              "      <td>1076</td>\n",
              "      <td>849</td>\n",
              "      <td>3</td>\n",
              "      <td>6</td>\n",
              "      <td>18</td>\n",
              "      <td>16</td>\n",
              "      <td>16</td>\n",
              "      <td>16</td>\n",
              "      <td>0.0</td>\n",
              "      <td>57</td>\n",
              "      <td>\\N</td>\n",
              "      <td>\\N</td>\n",
              "      <td>49</td>\n",
              "      <td>18</td>\n",
              "      <td>1:23.882</td>\n",
              "      <td>226.518</td>\n",
              "      <td>11</td>\n",
              "    </tr>\n",
              "    <tr>\n",
              "      <th>25456</th>\n",
              "      <td>25462</td>\n",
              "      <td>1076</td>\n",
              "      <td>4</td>\n",
              "      <td>214</td>\n",
              "      <td>14</td>\n",
              "      <td>10</td>\n",
              "      <td>17</td>\n",
              "      <td>17</td>\n",
              "      <td>17</td>\n",
              "      <td>0.0</td>\n",
              "      <td>57</td>\n",
              "      <td>\\N</td>\n",
              "      <td>\\N</td>\n",
              "      <td>57</td>\n",
              "      <td>2</td>\n",
              "      <td>1:20.846</td>\n",
              "      <td>235.024</td>\n",
              "      <td>11</td>\n",
              "    </tr>\n",
              "    <tr>\n",
              "      <th>25457</th>\n",
              "      <td>25463</td>\n",
              "      <td>1076</td>\n",
              "      <td>830</td>\n",
              "      <td>9</td>\n",
              "      <td>1</td>\n",
              "      <td>2</td>\n",
              "      <td>\\N</td>\n",
              "      <td>R</td>\n",
              "      <td>18</td>\n",
              "      <td>0.0</td>\n",
              "      <td>38</td>\n",
              "      <td>\\N</td>\n",
              "      <td>\\N</td>\n",
              "      <td>37</td>\n",
              "      <td>6</td>\n",
              "      <td>1:21.677</td>\n",
              "      <td>232.633</td>\n",
              "      <td>9</td>\n",
              "    </tr>\n",
              "    <tr>\n",
              "      <th>25458</th>\n",
              "      <td>25464</td>\n",
              "      <td>1076</td>\n",
              "      <td>20</td>\n",
              "      <td>117</td>\n",
              "      <td>5</td>\n",
              "      <td>17</td>\n",
              "      <td>\\N</td>\n",
              "      <td>R</td>\n",
              "      <td>19</td>\n",
              "      <td>0.0</td>\n",
              "      <td>22</td>\n",
              "      <td>\\N</td>\n",
              "      <td>\\N</td>\n",
              "      <td>17</td>\n",
              "      <td>19</td>\n",
              "      <td>1:25.189</td>\n",
              "      <td>223.042</td>\n",
              "      <td>3</td>\n",
              "    </tr>\n",
              "    <tr>\n",
              "      <th>25459</th>\n",
              "      <td>25465</td>\n",
              "      <td>1076</td>\n",
              "      <td>832</td>\n",
              "      <td>6</td>\n",
              "      <td>55</td>\n",
              "      <td>9</td>\n",
              "      <td>\\N</td>\n",
              "      <td>R</td>\n",
              "      <td>20</td>\n",
              "      <td>0.0</td>\n",
              "      <td>1</td>\n",
              "      <td>\\N</td>\n",
              "      <td>\\N</td>\n",
              "      <td>\\N</td>\n",
              "      <td>0</td>\n",
              "      <td>\\N</td>\n",
              "      <td>\\N</td>\n",
              "      <td>20</td>\n",
              "    </tr>\n",
              "  </tbody>\n",
              "</table>\n",
              "<p>25460 rows × 18 columns</p>\n",
              "</div>"
            ],
            "text/plain": [
              "       resultId  raceId  driverId  constructorId number  grid position  \\\n",
              "0             1      18         1              1     22     1        1   \n",
              "1             2      18         2              2      3     5        2   \n",
              "2             3      18         3              3      7     7        3   \n",
              "3             4      18         4              4      5    11        4   \n",
              "4             5      18         5              1     23     3        5   \n",
              "...         ...     ...       ...            ...    ...   ...      ...   \n",
              "25455     25461    1076       849              3      6    18       16   \n",
              "25456     25462    1076         4            214     14    10       17   \n",
              "25457     25463    1076       830              9      1     2       \\N   \n",
              "25458     25464    1076        20            117      5    17       \\N   \n",
              "25459     25465    1076       832              6     55     9       \\N   \n",
              "\n",
              "      positionText  positionOrder  points  laps         time milliseconds  \\\n",
              "0                1              1    10.0    58  1:34:50.616      5690616   \n",
              "1                2              2     8.0    58       +5.478      5696094   \n",
              "2                3              3     6.0    58       +8.163      5698779   \n",
              "3                4              4     5.0    58      +17.181      5707797   \n",
              "4                5              5     4.0    58      +18.014      5708630   \n",
              "...            ...            ...     ...   ...          ...          ...   \n",
              "25455           16             16     0.0    57           \\N           \\N   \n",
              "25456           17             17     0.0    57           \\N           \\N   \n",
              "25457            R             18     0.0    38           \\N           \\N   \n",
              "25458            R             19     0.0    22           \\N           \\N   \n",
              "25459            R             20     0.0     1           \\N           \\N   \n",
              "\n",
              "      fastestLap rank fastestLapTime fastestLapSpeed  statusId  \n",
              "0             39    2       1:27.452         218.300         1  \n",
              "1             41    3       1:27.739         217.586         1  \n",
              "2             41    5       1:28.090         216.719         1  \n",
              "3             58    7       1:28.603         215.464         1  \n",
              "4             43    1       1:27.418         218.385         1  \n",
              "...          ...  ...            ...             ...       ...  \n",
              "25455         49   18       1:23.882         226.518        11  \n",
              "25456         57    2       1:20.846         235.024        11  \n",
              "25457         37    6       1:21.677         232.633         9  \n",
              "25458         17   19       1:25.189         223.042         3  \n",
              "25459         \\N    0             \\N              \\N        20  \n",
              "\n",
              "[25460 rows x 18 columns]"
            ]
          },
          "execution_count": 14,
          "metadata": {},
          "output_type": "execute_result"
        }
      ],
      "source": [
        "results_df = pd.read_csv('./formula-1-ml-classifier/results.csv')\n",
        "results_df"
      ]
    },
    {
      "cell_type": "code",
      "execution_count": null,
      "metadata": {
        "colab": {
          "base_uri": "https://localhost:8080/"
        },
        "id": "2zpbWKrJ4poJ",
        "outputId": "7a899562-19dc-4193-a439-1008fcab1d75"
      },
      "outputs": [
        {
          "name": "stdout",
          "output_type": "stream",
          "text": [
            "Numbers of rows are 25460 & Number of columns are 18 \n",
            "\n",
            "<class 'pandas.core.frame.DataFrame'>\n",
            "RangeIndex: 25460 entries, 0 to 25459\n",
            "Data columns (total 18 columns):\n",
            " #   Column           Non-Null Count  Dtype  \n",
            "---  ------           --------------  -----  \n",
            " 0   resultId         25460 non-null  int64  \n",
            " 1   raceId           25460 non-null  int64  \n",
            " 2   driverId         25460 non-null  int64  \n",
            " 3   constructorId    25460 non-null  int64  \n",
            " 4   number           25460 non-null  object \n",
            " 5   grid             25460 non-null  int64  \n",
            " 6   position         25460 non-null  object \n",
            " 7   positionText     25460 non-null  object \n",
            " 8   positionOrder    25460 non-null  int64  \n",
            " 9   points           25460 non-null  float64\n",
            " 10  laps             25460 non-null  int64  \n",
            " 11  time             25460 non-null  object \n",
            " 12  milliseconds     25460 non-null  object \n",
            " 13  fastestLap       25460 non-null  object \n",
            " 14  rank             25460 non-null  object \n",
            " 15  fastestLapTime   25460 non-null  object \n",
            " 16  fastestLapSpeed  25460 non-null  object \n",
            " 17  statusId         25460 non-null  int64  \n",
            "dtypes: float64(1), int64(8), object(9)\n",
            "memory usage: 3.5+ MB\n",
            "None\n"
          ]
        }
      ],
      "source": [
        "print('Numbers of rows are {} & Number of columns are {} \\n'.format(results_df.shape[0], results_df.shape[1]))\n",
        "print(results_df.info())"
      ]
    },
    {
      "cell_type": "code",
      "execution_count": null,
      "metadata": {
        "colab": {
          "base_uri": "https://localhost:8080/",
          "height": 424
        },
        "id": "DdJfbE9w4poK",
        "outputId": "0bdec090-8647-4a37-b5a4-c15b135cd58b"
      },
      "outputs": [
        {
          "data": {
            "text/html": [
              "<div>\n",
              "<style scoped>\n",
              "    .dataframe tbody tr th:only-of-type {\n",
              "        vertical-align: middle;\n",
              "    }\n",
              "\n",
              "    .dataframe tbody tr th {\n",
              "        vertical-align: top;\n",
              "    }\n",
              "\n",
              "    .dataframe thead th {\n",
              "        text-align: right;\n",
              "    }\n",
              "</style>\n",
              "<table border=\"1\" class=\"dataframe\">\n",
              "  <thead>\n",
              "    <tr style=\"text-align: right;\">\n",
              "      <th></th>\n",
              "      <th>resultId</th>\n",
              "      <th>driverId</th>\n",
              "      <th>laps</th>\n",
              "      <th>statusId</th>\n",
              "      <th>points</th>\n",
              "      <th>positionOrder</th>\n",
              "      <th>grid</th>\n",
              "      <th>constructorId</th>\n",
              "      <th>milliseconds</th>\n",
              "    </tr>\n",
              "  </thead>\n",
              "  <tbody>\n",
              "    <tr>\n",
              "      <th>0</th>\n",
              "      <td>1</td>\n",
              "      <td>1</td>\n",
              "      <td>58</td>\n",
              "      <td>1</td>\n",
              "      <td>10.0</td>\n",
              "      <td>1</td>\n",
              "      <td>1</td>\n",
              "      <td>1</td>\n",
              "      <td>5690616</td>\n",
              "    </tr>\n",
              "    <tr>\n",
              "      <th>1</th>\n",
              "      <td>2</td>\n",
              "      <td>2</td>\n",
              "      <td>58</td>\n",
              "      <td>1</td>\n",
              "      <td>8.0</td>\n",
              "      <td>2</td>\n",
              "      <td>5</td>\n",
              "      <td>2</td>\n",
              "      <td>5696094</td>\n",
              "    </tr>\n",
              "    <tr>\n",
              "      <th>2</th>\n",
              "      <td>3</td>\n",
              "      <td>3</td>\n",
              "      <td>58</td>\n",
              "      <td>1</td>\n",
              "      <td>6.0</td>\n",
              "      <td>3</td>\n",
              "      <td>7</td>\n",
              "      <td>3</td>\n",
              "      <td>5698779</td>\n",
              "    </tr>\n",
              "    <tr>\n",
              "      <th>3</th>\n",
              "      <td>4</td>\n",
              "      <td>4</td>\n",
              "      <td>58</td>\n",
              "      <td>1</td>\n",
              "      <td>5.0</td>\n",
              "      <td>4</td>\n",
              "      <td>11</td>\n",
              "      <td>4</td>\n",
              "      <td>5707797</td>\n",
              "    </tr>\n",
              "    <tr>\n",
              "      <th>4</th>\n",
              "      <td>5</td>\n",
              "      <td>5</td>\n",
              "      <td>58</td>\n",
              "      <td>1</td>\n",
              "      <td>4.0</td>\n",
              "      <td>5</td>\n",
              "      <td>3</td>\n",
              "      <td>1</td>\n",
              "      <td>5708630</td>\n",
              "    </tr>\n",
              "    <tr>\n",
              "      <th>...</th>\n",
              "      <td>...</td>\n",
              "      <td>...</td>\n",
              "      <td>...</td>\n",
              "      <td>...</td>\n",
              "      <td>...</td>\n",
              "      <td>...</td>\n",
              "      <td>...</td>\n",
              "      <td>...</td>\n",
              "      <td>...</td>\n",
              "    </tr>\n",
              "    <tr>\n",
              "      <th>195</th>\n",
              "      <td>196</td>\n",
              "      <td>20</td>\n",
              "      <td>67</td>\n",
              "      <td>1</td>\n",
              "      <td>1.0</td>\n",
              "      <td>8</td>\n",
              "      <td>9</td>\n",
              "      <td>5</td>\n",
              "      <td>5514173</td>\n",
              "    </tr>\n",
              "    <tr>\n",
              "      <th>196</th>\n",
              "      <td>197</td>\n",
              "      <td>15</td>\n",
              "      <td>67</td>\n",
              "      <td>1</td>\n",
              "      <td>0.0</td>\n",
              "      <td>9</td>\n",
              "      <td>4</td>\n",
              "      <td>7</td>\n",
              "      <td>5518032</td>\n",
              "    </tr>\n",
              "    <tr>\n",
              "      <th>197</th>\n",
              "      <td>198</td>\n",
              "      <td>3</td>\n",
              "      <td>67</td>\n",
              "      <td>1</td>\n",
              "      <td>0.0</td>\n",
              "      <td>10</td>\n",
              "      <td>13</td>\n",
              "      <td>3</td>\n",
              "      <td>5518499</td>\n",
              "    </tr>\n",
              "    <tr>\n",
              "      <th>198</th>\n",
              "      <td>199</td>\n",
              "      <td>4</td>\n",
              "      <td>67</td>\n",
              "      <td>1</td>\n",
              "      <td>0.0</td>\n",
              "      <td>11</td>\n",
              "      <td>5</td>\n",
              "      <td>4</td>\n",
              "      <td>5519474</td>\n",
              "    </tr>\n",
              "    <tr>\n",
              "      <th>199</th>\n",
              "      <td>200</td>\n",
              "      <td>7</td>\n",
              "      <td>67</td>\n",
              "      <td>1</td>\n",
              "      <td>0.0</td>\n",
              "      <td>12</td>\n",
              "      <td>15</td>\n",
              "      <td>5</td>\n",
              "      <td>5519985</td>\n",
              "    </tr>\n",
              "  </tbody>\n",
              "</table>\n",
              "<p>200 rows × 9 columns</p>\n",
              "</div>"
            ],
            "text/plain": [
              "     resultId  driverId  laps  statusId  points  positionOrder  grid  \\\n",
              "0           1         1    58         1    10.0              1     1   \n",
              "1           2         2    58         1     8.0              2     5   \n",
              "2           3         3    58         1     6.0              3     7   \n",
              "3           4         4    58         1     5.0              4    11   \n",
              "4           5         5    58         1     4.0              5     3   \n",
              "..        ...       ...   ...       ...     ...            ...   ...   \n",
              "195       196        20    67         1     1.0              8     9   \n",
              "196       197        15    67         1     0.0              9     4   \n",
              "197       198         3    67         1     0.0             10    13   \n",
              "198       199         4    67         1     0.0             11     5   \n",
              "199       200         7    67         1     0.0             12    15   \n",
              "\n",
              "     constructorId milliseconds  \n",
              "0                1      5690616  \n",
              "1                2      5696094  \n",
              "2                3      5698779  \n",
              "3                4      5707797  \n",
              "4                1      5708630  \n",
              "..             ...          ...  \n",
              "195              5      5514173  \n",
              "196              7      5518032  \n",
              "197              3      5518499  \n",
              "198              4      5519474  \n",
              "199              5      5519985  \n",
              "\n",
              "[200 rows x 9 columns]"
            ]
          },
          "execution_count": 16,
          "metadata": {},
          "output_type": "execute_result"
        }
      ],
      "source": [
        "result_df = results_df[['resultId','driverId','laps', 'statusId', 'points', 'positionOrder', 'grid', 'constructorId','milliseconds']].head(200).copy()\n",
        "result_df"
      ]
    },
    {
      "cell_type": "code",
      "execution_count": null,
      "metadata": {
        "colab": {
          "base_uri": "https://localhost:8080/"
        },
        "id": "KAcIxxpC4poK",
        "outputId": "4abb5821-a703-450b-bae9-4f94c447b1cf"
      },
      "outputs": [
        {
          "data": {
            "text/plain": [
              "resultId          16\n",
              "driverId          16\n",
              "laps               8\n",
              "statusId           9\n",
              "points           0.0\n",
              "positionOrder     16\n",
              "grid              22\n",
              "constructorId     10\n",
              "milliseconds      \\N\n",
              "Name: 15, dtype: object"
            ]
          },
          "execution_count": 17,
          "metadata": {},
          "output_type": "execute_result"
        }
      ],
      "source": [
        "result_df.iloc[15]"
      ]
    },
    {
      "cell_type": "code",
      "execution_count": null,
      "metadata": {
        "colab": {
          "base_uri": "https://localhost:8080/",
          "height": 424
        },
        "id": "86NrwMnx4poK",
        "outputId": "bb824fbe-bb88-4808-c1fa-256793164b1b"
      },
      "outputs": [
        {
          "data": {
            "text/html": [
              "<div>\n",
              "<style scoped>\n",
              "    .dataframe tbody tr th:only-of-type {\n",
              "        vertical-align: middle;\n",
              "    }\n",
              "\n",
              "    .dataframe tbody tr th {\n",
              "        vertical-align: top;\n",
              "    }\n",
              "\n",
              "    .dataframe thead th {\n",
              "        text-align: right;\n",
              "    }\n",
              "</style>\n",
              "<table border=\"1\" class=\"dataframe\">\n",
              "  <thead>\n",
              "    <tr style=\"text-align: right;\">\n",
              "      <th></th>\n",
              "      <th>resultId</th>\n",
              "      <th>driverId</th>\n",
              "      <th>laps</th>\n",
              "      <th>statusId</th>\n",
              "      <th>points</th>\n",
              "      <th>positionOrder</th>\n",
              "      <th>grid</th>\n",
              "      <th>constructorId</th>\n",
              "      <th>milliseconds</th>\n",
              "    </tr>\n",
              "  </thead>\n",
              "  <tbody>\n",
              "    <tr>\n",
              "      <th>0</th>\n",
              "      <td>1</td>\n",
              "      <td>1</td>\n",
              "      <td>58</td>\n",
              "      <td>1</td>\n",
              "      <td>10.0</td>\n",
              "      <td>1</td>\n",
              "      <td>1</td>\n",
              "      <td>1</td>\n",
              "      <td>5690616</td>\n",
              "    </tr>\n",
              "    <tr>\n",
              "      <th>1</th>\n",
              "      <td>2</td>\n",
              "      <td>2</td>\n",
              "      <td>58</td>\n",
              "      <td>1</td>\n",
              "      <td>8.0</td>\n",
              "      <td>2</td>\n",
              "      <td>5</td>\n",
              "      <td>2</td>\n",
              "      <td>5696094</td>\n",
              "    </tr>\n",
              "    <tr>\n",
              "      <th>2</th>\n",
              "      <td>3</td>\n",
              "      <td>3</td>\n",
              "      <td>58</td>\n",
              "      <td>1</td>\n",
              "      <td>6.0</td>\n",
              "      <td>3</td>\n",
              "      <td>7</td>\n",
              "      <td>3</td>\n",
              "      <td>5698779</td>\n",
              "    </tr>\n",
              "    <tr>\n",
              "      <th>3</th>\n",
              "      <td>4</td>\n",
              "      <td>4</td>\n",
              "      <td>58</td>\n",
              "      <td>1</td>\n",
              "      <td>5.0</td>\n",
              "      <td>4</td>\n",
              "      <td>11</td>\n",
              "      <td>4</td>\n",
              "      <td>5707797</td>\n",
              "    </tr>\n",
              "    <tr>\n",
              "      <th>4</th>\n",
              "      <td>5</td>\n",
              "      <td>5</td>\n",
              "      <td>58</td>\n",
              "      <td>1</td>\n",
              "      <td>4.0</td>\n",
              "      <td>5</td>\n",
              "      <td>3</td>\n",
              "      <td>1</td>\n",
              "      <td>5708630</td>\n",
              "    </tr>\n",
              "    <tr>\n",
              "      <th>...</th>\n",
              "      <td>...</td>\n",
              "      <td>...</td>\n",
              "      <td>...</td>\n",
              "      <td>...</td>\n",
              "      <td>...</td>\n",
              "      <td>...</td>\n",
              "      <td>...</td>\n",
              "      <td>...</td>\n",
              "      <td>...</td>\n",
              "    </tr>\n",
              "    <tr>\n",
              "      <th>195</th>\n",
              "      <td>196</td>\n",
              "      <td>20</td>\n",
              "      <td>67</td>\n",
              "      <td>1</td>\n",
              "      <td>1.0</td>\n",
              "      <td>8</td>\n",
              "      <td>9</td>\n",
              "      <td>5</td>\n",
              "      <td>5514173</td>\n",
              "    </tr>\n",
              "    <tr>\n",
              "      <th>196</th>\n",
              "      <td>197</td>\n",
              "      <td>15</td>\n",
              "      <td>67</td>\n",
              "      <td>1</td>\n",
              "      <td>0.0</td>\n",
              "      <td>9</td>\n",
              "      <td>4</td>\n",
              "      <td>7</td>\n",
              "      <td>5518032</td>\n",
              "    </tr>\n",
              "    <tr>\n",
              "      <th>197</th>\n",
              "      <td>198</td>\n",
              "      <td>3</td>\n",
              "      <td>67</td>\n",
              "      <td>1</td>\n",
              "      <td>0.0</td>\n",
              "      <td>10</td>\n",
              "      <td>13</td>\n",
              "      <td>3</td>\n",
              "      <td>5518499</td>\n",
              "    </tr>\n",
              "    <tr>\n",
              "      <th>198</th>\n",
              "      <td>199</td>\n",
              "      <td>4</td>\n",
              "      <td>67</td>\n",
              "      <td>1</td>\n",
              "      <td>0.0</td>\n",
              "      <td>11</td>\n",
              "      <td>5</td>\n",
              "      <td>4</td>\n",
              "      <td>5519474</td>\n",
              "    </tr>\n",
              "    <tr>\n",
              "      <th>199</th>\n",
              "      <td>200</td>\n",
              "      <td>7</td>\n",
              "      <td>67</td>\n",
              "      <td>1</td>\n",
              "      <td>0.0</td>\n",
              "      <td>12</td>\n",
              "      <td>15</td>\n",
              "      <td>5</td>\n",
              "      <td>5519985</td>\n",
              "    </tr>\n",
              "  </tbody>\n",
              "</table>\n",
              "<p>199 rows × 9 columns</p>\n",
              "</div>"
            ],
            "text/plain": [
              "     resultId  driverId  laps  statusId  points  positionOrder  grid  \\\n",
              "0           1         1    58         1    10.0              1     1   \n",
              "1           2         2    58         1     8.0              2     5   \n",
              "2           3         3    58         1     6.0              3     7   \n",
              "3           4         4    58         1     5.0              4    11   \n",
              "4           5         5    58         1     4.0              5     3   \n",
              "..        ...       ...   ...       ...     ...            ...   ...   \n",
              "195       196        20    67         1     1.0              8     9   \n",
              "196       197        15    67         1     0.0              9     4   \n",
              "197       198         3    67         1     0.0             10    13   \n",
              "198       199         4    67         1     0.0             11     5   \n",
              "199       200         7    67         1     0.0             12    15   \n",
              "\n",
              "     constructorId milliseconds  \n",
              "0                1      5690616  \n",
              "1                2      5696094  \n",
              "2                3      5698779  \n",
              "3                4      5707797  \n",
              "4                1      5708630  \n",
              "..             ...          ...  \n",
              "195              5      5514173  \n",
              "196              7      5518032  \n",
              "197              3      5518499  \n",
              "198              4      5519474  \n",
              "199              5      5519985  \n",
              "\n",
              "[199 rows x 9 columns]"
            ]
          },
          "execution_count": 18,
          "metadata": {},
          "output_type": "execute_result"
        }
      ],
      "source": [
        "result_df.drop(15,axis=0,inplace=True)\n",
        "result_df"
      ]
    },
    {
      "cell_type": "code",
      "execution_count": null,
      "metadata": {
        "id": "3gF4vl5s4poK"
      },
      "outputs": [],
      "source": [
        "import jovian"
      ]
    },
    {
      "cell_type": "code",
      "execution_count": null,
      "metadata": {
        "colab": {
          "base_uri": "https://localhost:8080/"
        },
        "id": "pX2SmMZc4poL",
        "outputId": "60ab09df-913e-4967-d150-26f9c0addace"
      },
      "outputs": [
        {
          "data": {
            "application/javascript": [
              "window.require && require([\"base/js/namespace\"],function(Jupyter){Jupyter.notebook.save_checkpoint()})"
            ],
            "text/plain": [
              "<IPython.core.display.Javascript object>"
            ]
          },
          "metadata": {},
          "output_type": "display_data"
        },
        {
          "name": "stdout",
          "output_type": "stream",
          "text": [
            "[jovian] Updating notebook \"pdheeraj1908/formula-1-final\" on https://jovian.com\u001b[0m\n",
            "[jovian] Committed successfully! https://jovian.com/pdheeraj1908/formula-1-final\u001b[0m\n"
          ]
        },
        {
          "data": {
            "text/plain": [
              "'https://jovian.com/pdheeraj1908/formula-1-final'"
            ]
          },
          "execution_count": 20,
          "metadata": {},
          "output_type": "execute_result"
        }
      ],
      "source": [
        "jovian.commit()"
      ]
    },
    {
      "cell_type": "markdown",
      "metadata": {
        "id": "Oa3Qaxd14poL"
      },
      "source": [
        "## Exploratory Analysis and Visualization\n",
        "\n",
        "With the help of pandas, matplotlib & seaborn we can analyze and visualize the data. We can compute various functions as sum, range, mean , sd, etc.. to find what story does the data wants to tell us. By different types of visualization plots it makes us easier to see the relationship between the columns and rows of the data."
      ]
    },
    {
      "cell_type": "markdown",
      "metadata": {
        "id": "v8pksljt4poL"
      },
      "source": [
        "Let's begin by importing`matplotlib.pyplot` and `seaborn`."
      ]
    },
    {
      "cell_type": "code",
      "execution_count": null,
      "metadata": {
        "id": "SsRuoMGm4poL"
      },
      "outputs": [],
      "source": [
        "import seaborn as sns\n",
        "import matplotlib\n",
        "import matplotlib.pyplot as plt\n",
        "%matplotlib inline\n",
        "\n",
        "sns.set_style('darkgrid')\n",
        "matplotlib.rcParams['font.size'] = 15\n",
        "matplotlib.rcParams['figure.figsize'] = (9, 5)\n",
        "matplotlib.rcParams['figure.facecolor'] = '#00000000'"
      ]
    },
    {
      "cell_type": "markdown",
      "metadata": {
        "id": "a8ogeMLG4poM"
      },
      "source": [
        "Now I have found out the uniques and maximum grid in the dataframe"
      ]
    },
    {
      "cell_type": "code",
      "execution_count": null,
      "metadata": {
        "colab": {
          "base_uri": "https://localhost:8080/"
        },
        "id": "2En1gzKm4poM",
        "outputId": "5fbf009e-0c03-4707-81bf-af49bed38eeb"
      },
      "outputs": [
        {
          "data": {
            "text/plain": [
              "22"
            ]
          },
          "execution_count": 22,
          "metadata": {},
          "output_type": "execute_result"
        }
      ],
      "source": [
        "result_df.grid.max()"
      ]
    },
    {
      "cell_type": "code",
      "execution_count": null,
      "metadata": {
        "colab": {
          "base_uri": "https://localhost:8080/"
        },
        "id": "7WMYkK1f4poM",
        "outputId": "f16a979b-e6dc-48ad-d63f-b8d5906c3bb7"
      },
      "outputs": [
        {
          "data": {
            "text/plain": [
              "array([58, 57, 55, 53, 47, 43, 32, 30, 29, 25, 19,  0, 56, 54, 39,  5,  1,\n",
              "       40, 66, 65, 41, 34, 21,  8,  7,  6, 24, 76, 75, 72, 67, 59, 36, 70,\n",
              "       69, 51, 46, 44, 13, 16, 60, 38, 35, 10])"
            ]
          },
          "execution_count": 23,
          "metadata": {},
          "output_type": "execute_result"
        }
      ],
      "source": [
        "result_df.laps.unique()"
      ]
    },
    {
      "cell_type": "code",
      "execution_count": null,
      "metadata": {
        "colab": {
          "base_uri": "https://localhost:8080/"
        },
        "id": "wmDCbfeC4poM",
        "outputId": "3906523c-e5b7-4ffc-b898-0837728b5242"
      },
      "outputs": [
        {
          "data": {
            "text/plain": [
              "76"
            ]
          },
          "execution_count": 24,
          "metadata": {},
          "output_type": "execute_result"
        }
      ],
      "source": [
        "result_df.laps.max()"
      ]
    },
    {
      "cell_type": "code",
      "execution_count": null,
      "metadata": {
        "colab": {
          "base_uri": "https://localhost:8080/"
        },
        "id": "8Xk1eaMj4poM",
        "outputId": "a3407e02-3d3f-495d-e35f-690caf327e03"
      },
      "outputs": [
        {
          "data": {
            "text/plain": [
              "22"
            ]
          },
          "execution_count": 25,
          "metadata": {},
          "output_type": "execute_result"
        }
      ],
      "source": [
        "result_df.positionOrder.max()"
      ]
    },
    {
      "cell_type": "markdown",
      "metadata": {
        "id": "lq20WkuF4poM"
      },
      "source": [
        "With the help of matplotlib & seaborn I made some visualizations to find the relationship between carious columns."
      ]
    },
    {
      "cell_type": "code",
      "execution_count": null,
      "metadata": {
        "colab": {
          "base_uri": "https://localhost:8080/",
          "height": 364
        },
        "id": "yV9QDC-q4poN",
        "outputId": "1c8cfacb-a8af-459a-d5a1-646694c27053",
        "scrolled": true
      },
      "outputs": [
        {
          "data": {
            "image/png": "[encoded data removed]",
            "text/plain": [
              "<Figure size 648x360 with 1 Axes>"
            ]
          },
          "metadata": {},
          "output_type": "display_data"
        }
      ],
      "source": [
        "sns.set_style('darkgrid')\n",
        "plt.plot(result_df.driverId.head(50), result_df.grid.head(50), 's-r')\n",
        "\n",
        "plt.xlabel('Rank')\n",
        "plt.ylabel('Grid')\n",
        "\n",
        "plt.title(\"DriverId Vs Grid\");"
      ]
    },
    {
      "cell_type": "markdown",
      "metadata": {
        "id": "YLKX-QnX6MEY"
      },
      "source": [
        "This plot tells us the how ```driverId``` is related to ```grid```. \n",
        "But from this line graph plot we cannot get any insights as the plot is clumsy. So let us try different type of plot so that we can take some insights from the plot."
      ]
    },
    {
      "cell_type": "code",
      "execution_count": null,
      "metadata": {
        "id": "eWdZeVAo6MEY",
        "outputId": "dbac8e03-4287-4ece-d939-1e6da49c9173"
      },
      "outputs": [
        {
          "data": {
            "image/png": "[encoded data removed]",
            "text/plain": [
              "<Figure size 648x360 with 1 Axes>"
            ]
          },
          "metadata": {},
          "output_type": "display_data"
        }
      ],
      "source": [
        "sns.scatterplot(x=result_df.driverId.head(100), y=result_df.grid.head(100));\n",
        "\n",
        "plt.xlabel('Rank')\n",
        "plt.ylabel('Grid')\n",
        "\n",
        "plt.title(\"DriverId Vs Grid\");"
      ]
    },
    {
      "cell_type": "markdown",
      "metadata": {
        "id": "W2tNbsbi6MEZ"
      },
      "source": [
        "This plot will relates ```driverId``` and ```grid``` columns. Now we can observe that this type of plot is not that clumsy as it was in line plot."
      ]
    },
    {
      "cell_type": "code",
      "execution_count": null,
      "metadata": {
        "colab": {
          "base_uri": "https://localhost:8080/",
          "height": 364
        },
        "id": "vtwScWAS4poN",
        "outputId": "addf287c-3a7f-4224-ce0f-4b54e6ef8797"
      },
      "outputs": [
        {
          "data": {
            "image/png": "[encoded data removed]",
            "text/plain": [
              "<Figure size 648x360 with 1 Axes>"
            ]
          },
          "metadata": {},
          "output_type": "display_data"
        }
      ],
      "source": [
        "plt.bar(result_df.constructorId.head(10), result_df.points.head(10))\n",
        "\n",
        "plt.xlabel('ConstructorId')\n",
        "plt.ylabel('Points')\n",
        "\n",
        "plt.title(\"Points Vs ConstructorId\");"
      ]
    },
    {
      "cell_type": "markdown",
      "metadata": {
        "id": "Uemdv_ww4poN"
      },
      "source": [
        "Here I made a Line plot between Points Vs ConstructorId, and I also styled the plot and marked the points on the plot."
      ]
    },
    {
      "cell_type": "code",
      "execution_count": null,
      "metadata": {
        "colab": {
          "base_uri": "https://localhost:8080/",
          "height": 364
        },
        "id": "ME8qnCet4poN",
        "outputId": "7aba0db7-20a4-4b0a-9324-d75e397ae101"
      },
      "outputs": [
        {
          "data": {
            "image/png": "[encoded data removed]",
            "text/plain": [
              "<Figure size 648x360 with 1 Axes>"
            ]
          },
          "metadata": {},
          "output_type": "display_data"
        }
      ],
      "source": [
        "plt.plot(result_df.points.head(10), result_df.grid.head(10), 's-r')\n",
        "\n",
        "plt.xlabel('Points')\n",
        "plt.ylabel('Grid')\n",
        "\n",
        "plt.title(\"Points Vs Grid\");"
      ]
    },
    {
      "cell_type": "markdown",
      "metadata": {
        "id": "4v0JuEES6MEZ"
      },
      "source": [
        "The above plot is line plot. It shows the relationship between the points achieved by the car vs in which grid the car has positioned at the start of the race From the graph we can see the car which was in grid one achieved highest number of points and the car which was in last grid achieved the least number of points "
      ]
    },
    {
      "cell_type": "code",
      "execution_count": null,
      "metadata": {
        "colab": {
          "base_uri": "https://localhost:8080/"
        },
        "id": "GLkxEezG4poO",
        "outputId": "e8fc62c9-dd00-410a-b3ee-1b0377cc4dcc"
      },
      "outputs": [
        {
          "data": {
            "text/plain": [
              "array([ 1, 11,  5,  4,  3,  7,  8, 10,  2, 12, 20,  9,  6, 21, 22, 14, 23])"
            ]
          },
          "execution_count": 67,
          "metadata": {},
          "output_type": "execute_result"
        }
      ],
      "source": [
        "result_df.statusId.unique()"
      ]
    },
    {
      "cell_type": "markdown",
      "metadata": {
        "id": "5-H1Xeip4poO"
      },
      "source": [
        "Now I made a Scatter plot between Rank Vs Grid, and I labeled the axis and also give the title to the graph."
      ]
    },
    {
      "cell_type": "markdown",
      "metadata": {
        "id": "2qRxnmcT4poO"
      },
      "source": [
        "From the above plot, we can conclude that there are 20 grids in a formula race and the formula car which is on grid one is ranked first in the race."
      ]
    },
    {
      "cell_type": "code",
      "execution_count": null,
      "metadata": {
        "id": "jXLC1jWf4poO"
      },
      "outputs": [],
      "source": [
        "!pip install numpy  --quiet\n",
        "import numpy as np"
      ]
    },
    {
      "cell_type": "markdown",
      "metadata": {
        "id": "CSo7mENU4poO"
      },
      "source": [
        "Here I used histogram plot between ResultId, Laps and Points and I also added the legend to the plot."
      ]
    },
    {
      "cell_type": "code",
      "execution_count": null,
      "metadata": {
        "colab": {
          "base_uri": "https://localhost:8080/",
          "height": 364
        },
        "id": "yI2nwA9-4poP",
        "outputId": "4bfe6899-ffcc-4c94-bfc2-660e6f7522e7",
        "scrolled": true
      },
      "outputs": [
        {
          "data": {
            "image/png": "[encoded data removed]",
            "text/plain": [
              "<Figure size 648x360 with 1 Axes>"
            ]
          },
          "metadata": {},
          "output_type": "display_data"
        }
      ],
      "source": [
        "plt.title('Distribution of ResultId, Laps & Points')\n",
        "\n",
        "plt.hist([result_df.resultId.head(10), result_df.points.head(20), result_df.laps.head(10)],  \n",
        "          bins=np.arange(1, 10, 0.3),\n",
        "         stacked=True);\n",
        "\n",
        "plt.xlabel('ResultId')\n",
        "plt.ylabel('Number of Laps and points')\n",
        "plt.legend(['ResultId', 'Points'], loc='upper right', prop={'size': 8.5});"
      ]
    },
    {
      "cell_type": "markdown",
      "metadata": {
        "id": "QV4p1SQS6MEa"
      },
      "source": [
        "The above plot is histogram plot, it shows us the relationship between the resultId and number of points of the car and number of laps did each car completed. As this histogram plot tells us how many points and laps did each resultId had made in a single graph."
      ]
    },
    {
      "cell_type": "code",
      "execution_count": null,
      "metadata": {
        "colab": {
          "base_uri": "https://localhost:8080/"
        },
        "id": "84pyRbOV4poP",
        "outputId": "83e36d56-10bd-47fc-9ddd-1f7ab55b9f05"
      },
      "outputs": [
        {
          "data": {
            "text/plain": [
              "array([ 1, 11,  5,  4,  3,  7,  8, 10,  2, 12, 20,  9,  6, 21, 22, 14, 23])"
            ]
          },
          "execution_count": 70,
          "metadata": {},
          "output_type": "execute_result"
        }
      ],
      "source": [
        "result_df.statusId.unique()"
      ]
    },
    {
      "cell_type": "markdown",
      "metadata": {
        "id": "aFXQ_6VG4poP"
      },
      "source": [
        "To save and upload our work to Jovian before continuing"
      ]
    },
    {
      "cell_type": "code",
      "execution_count": null,
      "metadata": {
        "id": "0y-plQPi4poP"
      },
      "outputs": [],
      "source": [
        "import jovian"
      ]
    },
    {
      "cell_type": "code",
      "execution_count": null,
      "metadata": {
        "colab": {
          "base_uri": "https://localhost:8080/"
        },
        "id": "kDo8rhwk4poP",
        "outputId": "02e59f2e-bbdf-4f7c-f9a1-1dadc6b164b6"
      },
      "outputs": [
        {
          "data": {
            "application/javascript": [
              "window.require && require([\"base/js/namespace\"],function(Jupyter){Jupyter.notebook.save_checkpoint()})"
            ],
            "text/plain": [
              "<IPython.core.display.Javascript object>"
            ]
          },
          "metadata": {},
          "output_type": "display_data"
        },
        {
          "name": "stdout",
          "output_type": "stream",
          "text": [
            "[jovian] Updating notebook \"pdheeraj1908/formula-1-final\" on https://jovian.com\u001b[0m\n",
            "[jovian] Committed successfully! https://jovian.com/pdheeraj1908/formula-1-final\u001b[0m\n"
          ]
        },
        {
          "data": {
            "text/plain": [
              "'https://jovian.com/pdheeraj1908/formula-1-final'"
            ]
          },
          "execution_count": 72,
          "metadata": {},
          "output_type": "execute_result"
        }
      ],
      "source": [
        "jovian.commit()"
      ]
    },
    {
      "cell_type": "markdown",
      "metadata": {
        "id": "q-Wtys_f4poP"
      },
      "source": [
        "## Asking and Answering Questions\n",
        "\n",
        "Form the dataset I got some data insights and I have answered them in them below. "
      ]
    },
    {
      "cell_type": "markdown",
      "metadata": {
        "id": "Z7J6FFnf4poP"
      },
      "source": [
        "#### Q1: What is the relation between the Rank and Grid of the cars ?"
      ]
    },
    {
      "cell_type": "code",
      "execution_count": null,
      "metadata": {
        "colab": {
          "base_uri": "https://localhost:8080/",
          "height": 364
        },
        "id": "ZILwR2rC4poQ",
        "outputId": "6631632d-0ec3-4e33-a2ec-6f476e4a2115"
      },
      "outputs": [
        {
          "data": {
            "image/png": "[encoded data removed]",
            "text/plain": [
              "<Figure size 648x360 with 1 Axes>"
            ]
          },
          "metadata": {},
          "output_type": "display_data"
        }
      ],
      "source": [
        "sns.set_style('darkgrid')\n",
        "plt.plot(result_df.resultId.head(10), result_df.grid.head(10), 's-r')\n",
        "\n",
        "plt.xlabel('Rank')\n",
        "plt.ylabel('Grid')\n",
        "\n",
        "plt.title(\"Rank Vs Grid\");"
      ]
    },
    {
      "cell_type": "markdown",
      "metadata": {
        "id": "0GbYCLXQ4poQ"
      },
      "source": [
        "From this plot we can see that in the top we can say that in the formula race the formula car that is in the first grid completes the race in first position."
      ]
    },
    {
      "cell_type": "code",
      "execution_count": null,
      "metadata": {
        "colab": {
          "base_uri": "https://localhost:8080/"
        },
        "id": "nZg0PVgO4poQ",
        "outputId": "3cecf3f4-fb40-41f5-b442-4c3e422c3dea"
      },
      "outputs": [
        {
          "name": "stdout",
          "output_type": "stream",
          "text": [
            "From the above plot we can say that, the the grid one person os ranked 1\n"
          ]
        }
      ],
      "source": [
        "print(\"From the above plot we can say that, the the grid one person os ranked {}\".format(result_df.resultId[0]))"
      ]
    },
    {
      "cell_type": "code",
      "execution_count": null,
      "metadata": {
        "colab": {
          "base_uri": "https://localhost:8080/"
        },
        "id": "iDy7mmIU4poQ",
        "outputId": "6d27bd9c-f98f-4296-e9ad-ee810fdda85b"
      },
      "outputs": [
        {
          "name": "stdout",
          "output_type": "stream",
          "text": [
            "Plot also tells us that the ranks and grid are not directly related, ranks are also related to ConstructorId\n"
          ]
        }
      ],
      "source": [
        "print('Plot also tells us that the ranks and grid are not directly related, ranks are also related to ConstructorId')"
      ]
    },
    {
      "cell_type": "markdown",
      "metadata": {
        "id": "-hrEN9QV4poQ"
      },
      "source": [
        "#### Q2: How was the points alloted to the cars ? Do the points follow any kind AP , GP or any other relation ?\n"
      ]
    },
    {
      "cell_type": "code",
      "execution_count": null,
      "metadata": {
        "colab": {
          "base_uri": "https://localhost:8080/",
          "height": 364
        },
        "id": "pbd4-CWS4poQ",
        "outputId": "410e06f0-501e-4eb5-b9b1-a768b7558a32",
        "scrolled": true
      },
      "outputs": [
        {
          "data": {
            "image/png": "[encoded data removed]",
            "text/plain": [
              "<Figure size 648x360 with 1 Axes>"
            ]
          },
          "metadata": {},
          "output_type": "display_data"
        }
      ],
      "source": [
        "plt.bar(result_df.resultId.head(10), result_df.points.head(10))\n",
        "\n",
        "plt.xlabel('Rank')\n",
        "plt.ylabel('Points')\n",
        "\n",
        "plt.title(\"Points Vs Rank\");"
      ]
    },
    {
      "cell_type": "markdown",
      "metadata": {
        "id": "Hs-XJz7W6MEc"
      },
      "source": [
        "From this plot we can say that the car which achieved highest rank has gained the most points."
      ]
    },
    {
      "cell_type": "code",
      "execution_count": null,
      "metadata": {
        "colab": {
          "base_uri": "https://localhost:8080/"
        },
        "id": "WnQnlzS14poQ",
        "outputId": "b3c2fcb4-a8af-480e-c70a-a01f06315c83"
      },
      "outputs": [
        {
          "name": "stdout",
          "output_type": "stream",
          "text": [
            "Highest points are given to the Rank 1 car\n"
          ]
        }
      ],
      "source": [
        "print('Highest points are given to the Rank {} car'.format(result_df.resultId[0]))"
      ]
    },
    {
      "cell_type": "code",
      "execution_count": null,
      "metadata": {
        "colab": {
          "base_uri": "https://localhost:8080/"
        },
        "id": "G5q3JNSV4poR",
        "outputId": "9fc84fd9-5638-49a4-e0e2-13a74711fdbc"
      },
      "outputs": [
        {
          "name": "stdout",
          "output_type": "stream",
          "text": [
            "From the graph we can also interpret that Points & Ranks does not follow any knod of relation as points are given with penalities also\n"
          ]
        }
      ],
      "source": [
        "print(\"From the graph we can also interpret that Points & Ranks does not follow any knod of relation as points are given with penalities also\")"
      ]
    },
    {
      "cell_type": "markdown",
      "metadata": {
        "id": "bc_BfmNE4poR"
      },
      "source": [
        "#### Q3: How many unique laps are there in top 100 ranks?"
      ]
    },
    {
      "cell_type": "code",
      "execution_count": null,
      "metadata": {
        "colab": {
          "base_uri": "https://localhost:8080/",
          "height": 381
        },
        "id": "ePHVveSY4poR",
        "outputId": "4bef0ff3-059b-4fa8-aaa5-102b2df17997"
      },
      "outputs": [
        {
          "data": {
            "image/png": "[encoded data removed]",
            "text/plain": [
              "<Figure size 648x360 with 1 Axes>"
            ]
          },
          "metadata": {},
          "output_type": "display_data"
        }
      ],
      "source": [
        "plt.title('Distribution of DriverId, Laps ')\n",
        "\n",
        "plt.scatter(result_df.driverId.head(10), result_df.laps.head(10));\n",
        "\n",
        "plt.xlabel('DriverId')\n",
        "plt.ylabel('Number of Laps');"
      ]
    },
    {
      "cell_type": "markdown",
      "metadata": {
        "id": "s1nZAZKR6MEe"
      },
      "source": [
        "From the avbove plot we can tell that the race was a knockout race. The car which is in the last after will be knocked out of the race as we can see not every car can makes same number of laps"
      ]
    },
    {
      "cell_type": "code",
      "execution_count": null,
      "metadata": {
        "id": "yHaG7Nc14poS"
      },
      "outputs": [],
      "source": [
        "count_laps = result_df.laps.head(100).unique()"
      ]
    },
    {
      "cell_type": "code",
      "execution_count": null,
      "metadata": {
        "id": "HiSdkjOe4poS"
      },
      "outputs": [],
      "source": [
        "ans = count_laps.shape"
      ]
    },
    {
      "cell_type": "code",
      "execution_count": null,
      "metadata": {
        "colab": {
          "base_uri": "https://localhost:8080/"
        },
        "id": "3AGcFmDg4poT",
        "outputId": "9d8db0d3-bc1d-42ea-f49d-4abc0f6cb158"
      },
      "outputs": [
        {
          "name": "stdout",
          "output_type": "stream",
          "text": [
            "There are 26 unique laps are there in top 100 ranks!!\n"
          ]
        }
      ],
      "source": [
        "print('There are {} unique laps are there in top 100 ranks!!'.format(ans[0]))"
      ]
    },
    {
      "cell_type": "markdown",
      "metadata": {
        "id": "TQdnn1tS4poU"
      },
      "source": [
        "#### Q4: How many unique Grids are there ?"
      ]
    },
    {
      "cell_type": "code",
      "execution_count": null,
      "metadata": {
        "colab": {
          "base_uri": "https://localhost:8080/",
          "height": 381
        },
        "id": "-TWNI09l5lhf",
        "outputId": "2a19a8a6-1003-4a7d-e8df-295cab855854",
        "scrolled": true
      },
      "outputs": [
        {
          "data": {
            "image/png": "[encoded data removed]",
            "text/plain": [
              "<Figure size 648x360 with 1 Axes>"
            ]
          },
          "metadata": {},
          "output_type": "display_data"
        }
      ],
      "source": [
        "plt.title('Distribution of ResultId, Grid ')\n",
        "\n",
        "plt.scatter(result_df.resultId.head(10), result_df.grid.head(10));\n",
        "\n",
        "plt.xlabel('ResultId')\n",
        "plt.ylabel('Grid');"
      ]
    },
    {
      "cell_type": "markdown",
      "metadata": {
        "id": "ISFhkXZV6MEg"
      },
      "source": [
        "From the above plot we can say that the car which is in first grid had ranked one in the race, and car car which was in last grid ranked last in the race. By this we can conclude that there is a relation between the resultId and grid is the car."
      ]
    },
    {
      "cell_type": "code",
      "execution_count": null,
      "metadata": {
        "id": "XokLq1bX4poU"
      },
      "outputs": [],
      "source": [
        "count_grid = result_df.grid.unique()"
      ]
    },
    {
      "cell_type": "code",
      "execution_count": null,
      "metadata": {
        "id": "VTmeknUg4poU"
      },
      "outputs": [],
      "source": [
        "ans_grid = count_grid.shape"
      ]
    },
    {
      "cell_type": "code",
      "execution_count": null,
      "metadata": {
        "colab": {
          "base_uri": "https://localhost:8080/"
        },
        "id": "h5vERId24poU",
        "outputId": "331a459d-3269-4b38-90ac-c05e8184e31a"
      },
      "outputs": [
        {
          "name": "stdout",
          "output_type": "stream",
          "text": [
            "There are 22 unique Grids in dataset\n"
          ]
        }
      ],
      "source": [
        "print('There are {} unique Grids in dataset'.format(ans_grid[0]))"
      ]
    },
    {
      "cell_type": "markdown",
      "metadata": {
        "id": "9remipDI4poU"
      },
      "source": [
        "#### Q5: What is the maximum laps and grid?"
      ]
    },
    {
      "cell_type": "code",
      "execution_count": null,
      "metadata": {
        "colab": {
          "base_uri": "https://localhost:8080/",
          "height": 381
        },
        "id": "RxHwXo2h5uL3",
        "outputId": "42b2bed0-e9c7-4c0d-b171-e85ff02e158f",
        "scrolled": true
      },
      "outputs": [
        {
          "data": {
            "image/png": "[encoded data removed]",
            "text/plain": [
              "<Figure size 648x360 with 1 Axes>"
            ]
          },
          "metadata": {},
          "output_type": "display_data"
        }
      ],
      "source": [
        "plt.title('Distribution of Grid Vs Laps ')\n",
        "\n",
        "plt.scatter(result_df.grid.head(10), result_df.laps.head(10));\n",
        "\n",
        "plt.xlabel('Grid')\n",
        "plt.ylabel('Laps');"
      ]
    },
    {
      "cell_type": "markdown",
      "metadata": {
        "id": "T4PchwIv6MEh"
      },
      "source": [
        "From Q4 we can say that the car which is in grid one placed first in the race. So, we can also conclude that cars in the top grids make highest number of laps as those cars have high chance to get into the final lap in knockout race."
      ]
    },
    {
      "cell_type": "code",
      "execution_count": null,
      "metadata": {
        "id": "JkIZagGI4poU"
      },
      "outputs": [],
      "source": [
        "max_laps = result_df.laps.max()"
      ]
    },
    {
      "cell_type": "code",
      "execution_count": null,
      "metadata": {
        "id": "zSgQJJZh4poV"
      },
      "outputs": [],
      "source": [
        "max_grid = result_df.grid.max()"
      ]
    },
    {
      "cell_type": "code",
      "execution_count": null,
      "metadata": {
        "colab": {
          "base_uri": "https://localhost:8080/"
        },
        "id": "8-yfSD6M4poV",
        "outputId": "d5eb2bb0-8795-4e66-b2d9-c7f50ee1d68d"
      },
      "outputs": [
        {
          "name": "stdout",
          "output_type": "stream",
          "text": [
            "Maximum Grid is 22\n",
            "Maximum Laps is 76\n"
          ]
        }
      ],
      "source": [
        "print('Maximum Grid is {}'.format(max_grid))\n",
        "print('Maximum Laps is {}'.format(max_laps))"
      ]
    },
    {
      "cell_type": "markdown",
      "metadata": {
        "id": "rY0_99XN4poV"
      },
      "source": [
        "To save and upload our work to Jovian before continuing."
      ]
    },
    {
      "cell_type": "code",
      "execution_count": null,
      "metadata": {
        "id": "_A1wU_bn4poV"
      },
      "outputs": [],
      "source": [
        "import jovian"
      ]
    },
    {
      "cell_type": "code",
      "execution_count": null,
      "metadata": {
        "colab": {
          "base_uri": "https://localhost:8080/"
        },
        "id": "IWX73UWf4poV",
        "outputId": "39e12b23-f92f-4c8a-8014-285858c8b3b7"
      },
      "outputs": [
        {
          "data": {
            "application/javascript": [
              "window.require && require([\"base/js/namespace\"],function(Jupyter){Jupyter.notebook.save_checkpoint()})"
            ],
            "text/plain": [
              "<IPython.core.display.Javascript object>"
            ]
          },
          "metadata": {},
          "output_type": "display_data"
        },
        {
          "name": "stdout",
          "output_type": "stream",
          "text": [
            "[jovian] Updating notebook \"pdheeraj1908/formula-1-final\" on https://jovian.com\u001b[0m\n",
            "[jovian] Committed successfully! https://jovian.com/pdheeraj1908/formula-1-final\u001b[0m\n"
          ]
        },
        {
          "data": {
            "text/plain": [
              "'https://jovian.com/pdheeraj1908/formula-1-final'"
            ]
          },
          "execution_count": 92,
          "metadata": {},
          "output_type": "execute_result"
        }
      ],
      "source": [
        "jovian.commit()"
      ]
    },
    {
      "cell_type": "markdown",
      "metadata": {
        "id": "lQxRHgbb4poV"
      },
      "source": [
        "## Inferences and Conclusion\n",
        "\n",
        "After importing the data, I started cleaning and preparing the data for the analysis process. I ran some code using pandas library to perform some steps like parsing dates, creating additional columns, merging multiple dataset etc... Then with the help of matplotlib and seaborn libraries I analyzed the data and made some visualizations to get insights from the data. Then by asking some questions I found the relationships between the columns. I also got to understand what story does the dataset want to tells us.\n",
        "\n",
        "### Observations\n",
        "  1. Here we can observe the formula car in the top grid completed it's race first.\n",
        "  2.  The formula car with more points and less penalties is ranked 1st.\n",
        "  3. As the formula car in the top grid completed the race first, the formula car in the top grid also achieved the maximum points.\n",
        "  4. The are only 22 grids in the formula race.\n",
        "  5. Points that formula car gets also depends on the laps that formula car has made."
      ]
    },
    {
      "cell_type": "code",
      "execution_count": null,
      "metadata": {
        "id": "LpzfVue24poW"
      },
      "outputs": [],
      "source": [
        "import jovian"
      ]
    },
    {
      "cell_type": "code",
      "execution_count": null,
      "metadata": {
        "colab": {
          "base_uri": "https://localhost:8080/"
        },
        "id": "ZZVv_svJ4poW",
        "outputId": "769c384d-12e7-426a-a91e-8c9cd797e23b"
      },
      "outputs": [
        {
          "data": {
            "application/javascript": [
              "window.require && require([\"base/js/namespace\"],function(Jupyter){Jupyter.notebook.save_checkpoint()})"
            ],
            "text/plain": [
              "<IPython.core.display.Javascript object>"
            ]
          },
          "metadata": {},
          "output_type": "display_data"
        },
        {
          "name": "stdout",
          "output_type": "stream",
          "text": [
            "[jovian] Updating notebook \"pdheeraj1908/formula-1-final\" on https://jovian.com\u001b[0m\n",
            "[jovian] Committed successfully! https://jovian.com/pdheeraj1908/formula-1-final\u001b[0m\n"
          ]
        },
        {
          "data": {
            "text/plain": [
              "'https://jovian.com/pdheeraj1908/formula-1-final'"
            ]
          },
          "execution_count": 94,
          "metadata": {},
          "output_type": "execute_result"
        }
      ],
      "source": [
        "jovian.commit()"
      ]
    },
    {
      "cell_type": "markdown",
      "metadata": {
        "id": "vx89IF7E4poW"
      },
      "source": [
        "## References and Future Work\n",
        "\n",
        "References: The websites that I found useful during this project work are Stackoverflow, W3schools and GFG.\n",
        "\n",
        "* [Stackoverflow Link](https://stackoverflow.com/questions/7125009/how-to-change-legend-size-with-matplotlib-pyplot) \n",
        "* [GFG Link](https://www.geeksforgeeks.org/change-plot-size-in-matplotlib-python/) \n",
        "* [GFG Link](https://www.geeksforgeeks.org/bar-plot-in-matplotlib/) \n",
        "* [Markdown Guide](https://www.markdownguide.org/basic-syntax/#:~:text=To%20create%20a%20heading%2C%20add,e.g.%2C%20%23%23%23%20My%20Header%20) \n",
        "* [W3 Schools](https://www.w3schools.com/python/matplotlib_grid.asp) \n",
        "* [Seaborn Library](https://seaborn.pydata.org/tutorial.html)\n",
        "\n",
        "## Future work\n",
        "In addition to this project now I will start merging the previous years dataset to the present dataset and start the predict the future rank and grids of the formula cars. As the previous years dataset is available in the formula-1 website and in kaggle. We can come to a conclusion that how the ranks of the formula cars are dependent on the grid, laptime, ConstructorId, and many more parametres. After we define the model using decision trees or XGBooost, we can expect the rank of the formula car by giving the parametres as the inputs."
      ]
    }
  ],
  "metadata": {
    "colab": {
      "provenance": []
    },
    "kernelspec": {
      "display_name": "Python 3 (ipykernel)",
      "language": "python",
      "name": "python3"
    },
    "language_info": {
      "codemirror_mode": {
        "name": "ipython",
        "version": 3
      },
      "file_extension": ".py",
      "mimetype": "text/x-python",
      "name": "python",
      "nbconvert_exporter": "python",
      "pygments_lexer": "ipython3",
      "version": "3.9.7"
    }
  },
  "nbformat": 4,
  "nbformat_minor": 0
}